{
 "worksheets": [
  {
   "cells": [
    {
     "cell_type": "code",
     "execution_count": null,
     "metadata": {},
     "outputs": [
      {
       "ename": "SyntaxError",
       "evalue": "invalid syntax (<ipython-input-1-57eac7ea5177>, line 1)",
       "output_type": "pyerr",
       "traceback": [
        "\u001b[1;36m  File \u001b[1;32m\"<ipython-input-1-57eac7ea5177>\"\u001b[1;36m, line \u001b[1;32m1\u001b[0m\n\u001b[1;33m    for p in range(5)\u001b[0m\n\u001b[1;37m                      ^\u001b[0m\n\u001b[1;31mSyntaxError\u001b[0m\u001b[1;31m:\u001b[0m invalid syntax\n"
       ]
      }
     ],
     "input": [
      "for p in range(5) \n",
      "    print(p)"
     ],
     "language": "python",
     "prompt_number": 1
    },
    {
     "cell_type": "code",
     "execution_count": null,
     "metadata": {},
     "outputs": [
      {
       "output_type": "stream",
       "stream": "stdout",
       "text": [
        "0\n1\n2\n3\n4\n"
       ]
      }
     ],
     "input": [
      "for p in range(5):\n",
      "    print(p)"
     ],
     "language": "python",
     "prompt_number": 9
    },
    {
     "cell_type": "code",
     "execution_count": null,
     "metadata": {},
     "outputs": [
      {
       "output_type": "stream",
       "stream": "stdout",
       "text": [
        "dates,Ln,S,C,Lr\n\n"
       ]
      }
     ],
     "input": [
      "import numpy as np\n",
      "import io as io\n",
      "header_Y ='dates,Ln,S,C,Lr\\n'\n",
      "my_matrix = np.array(['prob_def','irps','bk_evens','exp_inf','Y','Ytt_new','Yttl_new','Xtt_new','Xttl_new','Vtt_new','Vttl_new','prmtr_new','Kp_new','thetap_new','Sigma_new','a_new','lmda_new','lmda2_new','Phi_new','Q_new','U0_new','U1_new','A0_new','A1_new','V0','X0'])\n",
      "f_handle = open(r'Z:\\GMO\\Research\\AffineTermStructure\\code\\python_haats\\txt_files\\test.txt', 'wb')#, encoding=\"utf-16\" )\n",
      "#f_handle.write(np.array(eval('header_'+my_matrix[4])).astype('str'))\n",
      "#f_handle.write('This is a test\\n')\n",
      "#np.array(eval('header_'+my_matrix[4]),dtype='str').tofile(f_handle, sep=\"\", format=\"%s\")\n",
      "np.savetxt(f_handle, np.array(eval('header_'+my_matrix[4])).reshape(1,), fmt='%s', delimiter=',')\n",
      "#np.savetxt(f_handle, np.array(['This is a test\\n']).reshape(1,), fmt='%s', delimiter=',')\n",
      "f_handle.close()\n",
      "print(np.array(eval('header_'+my_matrix[4])))\n",
      "#print(np.array(eval('header_'+my_matrix[4])).tobytes())\n",
      "#print(eval('header_'+my_matrix[4]))     \n",
      "#print(np.array(eval('header_'+my_matrix[4])))"
     ],
     "language": "python",
     "prompt_number": 99
    },
    {
     "cell_type": "code",
     "execution_count": null,
     "metadata": {},
     "outputs": [],
     "input": [
      "import numpy as np\n",
      "from kalman import *\n",
      "from scipy.linalg import expm\n",
      "import matplotlib.pyplot as plt\n",
      "import matplotlib as mplt\n",
      "import pylab as plab\n",
      "%matplotlib inline\n",
      "\n",
      "#Let's use 2 mean reverting state variables and 3 observed variables\n",
      "n,m=2,6\n",
      "u=np.random.rand(n,n)\n",
      "# K=u*diag(rand(n,1))*u';eig(K); %this we impose eigvals with real positive components\n",
      "K=np.diag(random.rand(n,1))\n",
      "#this we impose eigvals with real positive components\n",
      "theta=np.random.rand(n,1) #long run mean for x.\n",
      "x[1,:]=np.random.randn(1,n) #initial x\n",
      "U1=expm(-K*1/12) #divide by 12 for monthly frequency\n",
      "U0=(np.identity(n)-U1)*theta\n",
      "A0=np.random.rand(m,1)*10\n",
      "A1= np.random.rand(m,n)*10\n",
      "Q=np.identity(n)*0.2\n",
      "Phi=np.identity(m)*1\n",
      "for t in range(100):\n",
      "    x[t,:]=U0 + U1*x[t-1,:].T + Q*np.random.randn(n,1)\n",
      "    y[t,:] = A0 + A1*x[t,:].T + Phi*np.random.randn(m,1)\n",
      "plt.figure()\n",
      "plt.plot(y,'r')\n",
      "plt.title('y')\n",
      "plt.show()\n",
      "plt.figure()\n",
      "plt.plot(x,'b')\n",
      "plt.title('x')\n",
      "plt.show() \n",
      "\n",
      "kobj = Kalman(y, A0, A1, U0, U1, Q, Phi)\n",
      "Ytt, Yttl, Xtt, Xttl, Vtt, Vttl, Gain_t,eta_t, cum_log_likelihood=kobj.filter\n",
      "\n",
      "for i in 1:n:\n",
      "    plt.figure()\n",
      "    plt.plot([Xttl[:,n], x[:,n]])\n",
      "    plt.legend({'filtered','actual'})\n",
      "    plt.title('x'+str(n))\n",
      "    plt.show()"
     ],
     "language": "python"
    },
    {
     "cell_type": "code",
     "execution_count": null,
     "metadata": {},
     "outputs": [],
     "input": [
      "import numpy as np\n",
      "a = np.matrix([1,2,3,4])\n",
      "d = np.diag(a)\n",
      "print (d)"
     ],
     "language": "python"
    },
    {
     "cell_type": "code",
     "execution_count": null,
     "metadata": {},
     "outputs": [],
     "input": [
      ""
     ],
     "language": "python"
    }
   ]
  }
 ],
 "cells": [],
 "metadata": {},
 "nbformat": 3,
 "nbformat_minor": 0
}