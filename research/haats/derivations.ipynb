{
 "cells": [
  {
   "cell_type": "code",
   "execution_count": 24,
   "metadata": {
    "collapsed": false
   },
   "outputs": [],
   "source": [
    "from sympy import *\n",
    "init_printing() #for pretty printing of symbolic maniputlation output in latex\n",
    "# import sympy.galgebra.latex_ex as tex\n",
    "import numpy as np"
   ]
  },
  {
   "cell_type": "code",
   "execution_count": 3,
   "metadata": {
    "collapsed": true
   },
   "outputs": [],
   "source": [
    "#Define some symbolic vectors and matrices\n",
    "\n",
    "L__N,L__R,S,C = Symbol('L__N'), Symbol('L__R'), Symbol('S'), Symbol('C')\n",
    "X = Matrix([[L__N], [S], [C], [L__R]])\n",
    "\n",
    "sigma_1,sigma_2,sigma_3,sigma_4 = Symbol('sigma_1'), Symbol('sigma_2'), \\\n",
    "                            Symbol('sigma_3'), Symbol('sigma_4')\n",
    "Sigma = Matrix(diag(sigma_1, sigma_2, sigma_3, sigma_4))\n",
    "\n",
    "alpha__R,lamda, tau = Symbol('alpha__R'),Symbol('lamda'),Symbol('tau')\n",
    "\n",
    "theta__Q, K__Q  =  MatrixSymbol('theta__Q',4,1), MatrixSymbol('K__Q',4,4) \n",
    "    \n",
    "G__N, G__R = Symbol('G__N'), Symbol('G__R')   "
   ]
  },
  {
   "cell_type": "code",
   "execution_count": 4,
   "metadata": {
    "collapsed": true
   },
   "outputs": [],
   "source": [
    "B__N_1,B__N_2,B__N_3,B__N_4 = Symbol('B__N_1'), Symbol('B__N_2'), Symbol('B__N_3'), Symbol('B__N_4')\n",
    "B__N = Matrix([[B__N_1], [B__N_2], [B__N_3], [B__N_4]])\n",
    "\n",
    "B__R_1,B__R_2,B__R_3,B__R_4 = Symbol('B__R_1'), Symbol('B__R_2'), Symbol('B__R_3'), Symbol('B__R_4')\n",
    "B__R = Matrix([[B__R_1], [B__R_2], [B__R_3], [B__R_4]])"
   ]
  },
  {
   "cell_type": "code",
   "execution_count": 5,
   "metadata": {
    "collapsed": false
   },
   "outputs": [
    {
     "data": {
      "image/png": "[encoded data removed]",
      "text/latex": [
       "$$\\left[\\begin{matrix}- \\tau\\\\- \\frac{1}{\\lambda} + \\frac{1}{\\lambda} e^{- \\lambda \\tau}\\\\\\frac{1}{\\lambda} \\left(\\lambda \\tau - e^{\\lambda \\tau} + 1\\right) e^{- \\lambda \\tau}\\\\0\\end{matrix}\\right]$$"
      ],
      "text/plain": [
       "⎡          -τ          ⎤\n",
       "⎢                      ⎥\n",
       "⎢            -λ⋅τ      ⎥\n",
       "⎢       1   ℯ          ⎥\n",
       "⎢     - ─ + ─────      ⎥\n",
       "⎢       λ     λ        ⎥\n",
       "⎢                      ⎥\n",
       "⎢⎛       λ⋅τ    ⎞  -λ⋅τ⎥\n",
       "⎢⎝λ⋅τ - ℯ    + 1⎠⋅ℯ    ⎥\n",
       "⎢──────────────────────⎥\n",
       "⎢          λ           ⎥\n",
       "⎢                      ⎥\n",
       "⎣          0           ⎦"
      ]
     },
     "execution_count": 5,
     "metadata": {},
     "output_type": "execute_result"
    }
   ],
   "source": [
    "#Solve for BN\n",
    "term = collect(expand(-1/tau * B__N.dot(X) - X.dot(Matrix([[1], [(1-exp(-lamda * tau))/(lamda*tau)], \\\n",
    "                                           [(1-exp(-lamda * tau))/(lamda*tau)-exp(-lamda *tau)], \\\n",
    "                                           [0]])))\n",
    "      , [L__N, S, C, L__R])\n",
    "eqns_list = [term.coeff(var)  for var in [L__N, S, C, L__R]]\n",
    "B__N = Matrix([solve(eqns_list[i],B__N[i],simplify=True) for i in range(4) ])\n",
    "\n",
    "B__N\n"
   ]
  },
  {
   "cell_type": "code",
   "execution_count": 6,
   "metadata": {
    "collapsed": false
   },
   "outputs": [
    {
     "data": {
      "image/png": "[encoded data removed]",
      "text/latex": [
       "$$\\left[\\begin{matrix}0\\\\- \\frac{\\alpha^{R}}{\\lambda} + \\frac{\\alpha^{R}}{\\lambda} e^{- \\lambda \\tau}\\\\\\frac{\\alpha^{R}}{\\lambda} \\left(\\lambda \\tau - e^{\\lambda \\tau} + 1\\right) e^{- \\lambda \\tau}\\\\- \\tau\\end{matrix}\\right]$$"
      ],
      "text/plain": [
       "⎡             0             ⎤\n",
       "⎢                           ⎥\n",
       "⎢                   -λ⋅τ    ⎥\n",
       "⎢      α__R   α__R⋅ℯ        ⎥\n",
       "⎢    - ──── + ──────────    ⎥\n",
       "⎢       λ         λ         ⎥\n",
       "⎢                           ⎥\n",
       "⎢     ⎛       λ⋅τ    ⎞  -λ⋅τ⎥\n",
       "⎢α__R⋅⎝λ⋅τ - ℯ    + 1⎠⋅ℯ    ⎥\n",
       "⎢───────────────────────────⎥\n",
       "⎢             λ             ⎥\n",
       "⎢                           ⎥\n",
       "⎣            -τ             ⎦"
      ]
     },
     "execution_count": 6,
     "metadata": {},
     "output_type": "execute_result"
    }
   ],
   "source": [
    "#Solve for BR\n",
    "term = collect(expand(-1/tau * B__R.dot(X) - X.dot(Matrix([[0], [alpha__R*(1-exp(-lamda * tau))/(lamda*tau)], \\\n",
    "                                           [alpha__R*((1-exp(-lamda * tau))/(lamda*tau)-exp(-lamda *tau))], \\\n",
    "                                           [1]])))\n",
    "      , [L__N, S, C, L__R])\n",
    "eqns_list = [term.coeff(var)  for var in [L__N, S, C, L__R]]\n",
    "B__R = Matrix([solve(eqns_list[i],B__R[i],simplify=True) for i in range(4) ])\n",
    "\n",
    "B__R"
   ]
  },
  {
   "cell_type": "code",
   "execution_count": 53,
   "metadata": {
    "collapsed": false,
    "scrolled": true
   },
   "outputs": [
    {
     "data": {
      "image/png": "[encoded data removed]",
      "text/latex": [
       "$$\\left[\\begin{matrix}1\\\\e^{- \\lambda \\tau}\\\\\\lambda \\tau e^{- \\lambda \\tau}\\\\0\\end{matrix}\\right]$$"
      ],
      "text/plain": [
       "⎡    1    ⎤\n",
       "⎢         ⎥\n",
       "⎢   -λ⋅τ  ⎥\n",
       "⎢  ℯ      ⎥\n",
       "⎢         ⎥\n",
       "⎢     -λ⋅τ⎥\n",
       "⎢λ⋅τ⋅ℯ    ⎥\n",
       "⎢         ⎥\n",
       "⎣    0    ⎦"
      ]
     },
     "execution_count": 53,
     "metadata": {},
     "output_type": "execute_result"
    }
   ],
   "source": [
    "# dB__Ndt \n",
    "dB__Ndt = -Matrix([simplify(diff(B__N[i], tau)) for i in range(4)])\n",
    "dB__Ndt"
   ]
  },
  {
   "cell_type": "code",
   "execution_count": 54,
   "metadata": {
    "collapsed": false
   },
   "outputs": [
    {
     "data": {
      "image/png": "[encoded data removed]",
      "text/latex": [
       "$$\\left[\\begin{matrix}0\\\\\\alpha^{R} e^{- \\lambda \\tau}\\\\\\alpha^{R} \\lambda \\tau e^{- \\lambda \\tau}\\\\1\\end{matrix}\\right]$$"
      ],
      "text/plain": [
       "⎡      0       ⎤\n",
       "⎢              ⎥\n",
       "⎢        -λ⋅τ  ⎥\n",
       "⎢  α__R⋅ℯ      ⎥\n",
       "⎢              ⎥\n",
       "⎢          -λ⋅τ⎥\n",
       "⎢α__R⋅λ⋅τ⋅ℯ    ⎥\n",
       "⎢              ⎥\n",
       "⎣      1       ⎦"
      ]
     },
     "execution_count": 54,
     "metadata": {},
     "output_type": "execute_result"
    }
   ],
   "source": [
    "# dB__Rdt\n",
    "dB__Rdt = -Matrix([simplify(diff(B__R[i], tau)) for i in range(4)])\n",
    "dB__Rdt"
   ]
  },
  {
   "cell_type": "code",
   "execution_count": 50,
   "metadata": {
    "collapsed": false
   },
   "outputs": [],
   "source": [
    "#rho\n",
    "\n",
    "rho__N_1, rho__R_1 = Matrix([[1], [1], [0], [0]]), Matrix([[0], [alpha__R], [0], [1]])\n",
    "rho__N_0, rho__R_0 = Matrix([[0], [0], [0], [0]]), Matrix([[0], [0], [0], [0]])"
   ]
  },
  {
   "cell_type": "code",
   "execution_count": 43,
   "metadata": {
    "collapsed": false
   },
   "outputs": [
    {
     "data": {
      "image/png": "[encoded data removed]",
      "text/latex": [
       "$$\\left[\\begin{matrix}0 & 0 & 0 & 0\\\\0 & \\lambda & - \\lambda & 0\\\\0 & 0 & \\lambda & 0\\\\0 & 0 & 0 & 0\\end{matrix}\\right]$$"
      ],
      "text/plain": [
       "⎡0  0  0   0⎤\n",
       "⎢           ⎥\n",
       "⎢0  λ  -λ  0⎥\n",
       "⎢           ⎥\n",
       "⎢0  0  λ   0⎥\n",
       "⎢           ⎥\n",
       "⎣0  0  0   0⎦"
      ]
     },
     "execution_count": 43,
     "metadata": {},
     "output_type": "execute_result"
    }
   ],
   "source": [
    "#K__Q\n",
    "K__Q = Matrix([[0, 0 , 0, 0], [0, lamda,-lamda,0 ], [0,0,lamda,0], [0,0,0,0]])\n",
    "K__Q"
   ]
  },
  {
   "cell_type": "code",
   "execution_count": 56,
   "metadata": {
    "collapsed": false
   },
   "outputs": [
    {
     "data": {
      "text/plain": [
       "True"
      ]
     },
     "execution_count": 56,
     "metadata": {},
     "output_type": "execute_result"
    }
   ],
   "source": [
    "# check\n",
    "simplify(rho__N_1 + K__Q.T * B__N) == dB__Ndt"
   ]
  },
  {
   "cell_type": "code",
   "execution_count": 55,
   "metadata": {
    "collapsed": false
   },
   "outputs": [
    {
     "data": {
      "text/plain": [
       "True"
      ]
     },
     "execution_count": 55,
     "metadata": {},
     "output_type": "execute_result"
    }
   ],
   "source": [
    "# check\n",
    "simplify(rho__R_1 + K__Q.T * B__R) == dB__Rdt"
   ]
  },
  {
   "cell_type": "code",
   "execution_count": 95,
   "metadata": {
    "collapsed": false
   },
   "outputs": [
    {
     "data": {
      "image/png": "[encoded data removed]",
      "text/latex": [
       "$$0.5 \\sigma_{1}^{2} \\tau^{2} + 0.5 \\sigma_{2}^{2} \\left(- \\frac{1}{\\lambda} + \\frac{1}{\\lambda} e^{- \\lambda \\tau}\\right)^{2} + \\frac{0.5 \\sigma_{3}^{2}}{\\lambda^{2}} \\left(\\lambda \\tau - e^{\\lambda \\tau} + 1\\right)^{2} e^{- 2 \\lambda \\tau}$$"
      ],
      "text/plain": [
       "                                  2                           2        \n",
       "                     ⎛       -λ⋅τ⎞          2 ⎛       λ⋅τ    ⎞   -2⋅λ⋅τ\n",
       "      2  2         2 ⎜  1   ℯ    ⎟    0.5⋅σ₃ ⋅⎝λ⋅τ - ℯ    + 1⎠ ⋅ℯ      \n",
       "0.5⋅σ₁ ⋅τ  + 0.5⋅σ₂ ⋅⎜- ─ + ─────⎟  + ─────────────────────────────────\n",
       "                     ⎝  λ     λ  ⎠                     2               \n",
       "                                                      λ                "
      ]
     },
     "execution_count": 95,
     "metadata": {},
     "output_type": "execute_result"
    }
   ],
   "source": [
    "#Solving for G\n",
    "\n",
    "rho__N_0, rho__R_0  = Matrix([0]) , Matrix([0]) \n",
    "theta__Q = Matrix([[0], [0], [0], [0]])\n",
    "\n",
    "dG__Ndt = trace(rho__N_0 - B__N.T * K__Q * theta__Q )- (1/2.0) * trace(Sigma.T * B__N * B__N.T * Sigma)\n",
    "dG__Ndtau = collect(- dG__Ndt,[sigma_1**2, sigma_2**2, sigma_3**2, sigma_4**2])\n",
    "dG__Ndtau"
   ]
  },
  {
   "cell_type": "code",
   "execution_count": 96,
   "metadata": {
    "collapsed": false
   },
   "outputs": [
    {
     "data": {
      "text/latex": [
       "$$\\frac{0.5 \\alpha^{R}^{2}}{\\lambda^{2}} \\sigma_{3}^{2} \\left(\\lambda \\tau - e^{\\lambda \\tau} + 1\\right)^{2} e^{- 2 \\lambda \\tau} + 0.5 \\sigma_{2}^{2} \\left(- \\frac{\\alpha^{R}}{\\lambda} + \\frac{\\alpha^{R}}{\\lambda} e^{- \\lambda \\tau}\\right)^{2} + 0.5 \\sigma_{4}^{2} \\tau^{2}$$"
      ],
      "text/plain": [
       "                              2                                        2      \n",
       "        2   2 ⎛       λ⋅τ    ⎞   -2⋅λ⋅τ           ⎛               -λ⋅τ⎞       \n",
       "0.5⋅α__R ⋅σ₃ ⋅⎝λ⋅τ - ℯ    + 1⎠ ⋅ℯ               2 ⎜  α__R   α__R⋅ℯ    ⎟       \n",
       "─────────────────────────────────────── + 0.5⋅σ₂ ⋅⎜- ──── + ──────────⎟  + 0.5\n",
       "                    2                             ⎝   λ         λ     ⎠       \n",
       "                   λ                                                          \n",
       "\n",
       "       \n",
       "       \n",
       "   2  2\n",
       "⋅σ₄ ⋅τ \n",
       "       \n",
       "       "
      ]
     },
     "execution_count": 96,
     "metadata": {},
     "output_type": "execute_result"
    }
   ],
   "source": [
    "\n",
    "\n",
    "dG__Rdt = trace(rho__R_0 - B__R.T * K__Q * theta__Q ) - (1/2.0) * trace(Sigma.T * B__R * B__R.T * Sigma)\n",
    "dG__Rdtau = collect(- dG__Rdt,[sigma_1**2, sigma_2**2, sigma_3**2, sigma_4**2])\n",
    "dG__Rdtau"
   ]
  },
  {
   "cell_type": "code",
   "execution_count": 97,
   "metadata": {
    "collapsed": false
   },
   "outputs": [
    {
     "name": "stdout",
     "output_type": "stream",
     "text": [
      "0.5*alpha__R**2*sigma_3**2*(lamda*tau - exp(lamda*tau) + 1)**2*exp(-2*lamda*tau)/lamda**2 + 0.5*sigma_2**2*(-alpha__R/lamda + alpha__R*exp(-lamda*tau)/lamda)**2 + 0.5*sigma_4**2*tau**2\n"
     ]
    }
   ],
   "source": [
    "print(dG__Rdtau )"
   ]
  },
  {
   "cell_type": "code",
   "execution_count": 98,
   "metadata": {
    "collapsed": false
   },
   "outputs": [
    {
     "name": "stdout",
     "output_type": "stream",
     "text": [
      "                              2                                        2      \n",
      "        2   2 ⎛       λ⋅τ    ⎞   -2⋅λ⋅τ           ⎛               -λ⋅τ⎞       \n",
      "0.5⋅α__R ⋅σ₃ ⋅⎝λ⋅τ - ℯ    + 1⎠ ⋅ℯ               2 ⎜  α__R   α__R⋅ℯ    ⎟       \n",
      "─────────────────────────────────────── + 0.5⋅σ₂ ⋅⎜- ──── + ──────────⎟  + 0.5\n",
      "                    2                             ⎝   λ         λ     ⎠       \n",
      "                   λ                                                          \n",
      "\n",
      "       \n",
      "       \n",
      "   2  2\n",
      "⋅σ₄ ⋅τ \n",
      "       \n",
      "       \n"
     ]
    }
   ],
   "source": [
    "pprint(dG__Rdtau )"
   ]
  },
  {
   "cell_type": "code",
   "execution_count": null,
   "metadata": {
    "collapsed": true
   },
   "outputs": [],
   "source": []
  }
 ],
 "metadata": {
  "kernelspec": {
   "display_name": "Python 2",
   "language": "python",
   "name": "python2"
  },
  "language_info": {
   "codemirror_mode": {
    "name": "ipython",
    "version": 2
   },
   "file_extension": ".py",
   "mimetype": "text/x-python",
   "name": "python",
   "nbconvert_exporter": "python",
   "pygments_lexer": "ipython2",
   "version": "2.7.11"
  }
 },
 "nbformat": 4,
 "nbformat_minor": 0
}
